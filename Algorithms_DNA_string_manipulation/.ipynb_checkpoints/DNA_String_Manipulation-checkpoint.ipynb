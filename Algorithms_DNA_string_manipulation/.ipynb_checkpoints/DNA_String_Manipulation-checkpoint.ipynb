{
 "cells": [
  {
   "cell_type": "markdown",
   "id": "f9afd6ee",
   "metadata": {},
   "source": [
    "These functions come from the work in the course Algorithms for DNA Sequencing on Coursera."
   ]
  },
  {
   "cell_type": "code",
   "execution_count": null,
   "id": "5ed812b3",
   "metadata": {},
   "outputs": [],
   "source": [
    "#returns the longest common string of bases at the beginning of two strings\n",
    "def longestCommonPrefix(s1,s2):\n",
    "    i=0\n",
    "    while i<len(s1) and i< len(s2) and s1[i] == s2[i]:\n",
    "        i += 1\n",
    "    return s1[:i]"
   ]
  },
  {
   "cell_type": "code",
   "execution_count": null,
   "id": "842db849",
   "metadata": {},
   "outputs": [],
   "source": [
    "#This function checks whether two strings match or not\n",
    "def match(s1,s2):\n",
    "    if not len(s1) == len(s2):\n",
    "        return False\n",
    "    \n",
    "    for i in range(len(s1)):\n",
    "        if not s1[i]== s2[i]:\n",
    "            return False "
   ]
  },
  {
   "cell_type": "code",
   "execution_count": null,
   "id": "54e487ec",
   "metadata": {},
   "outputs": [],
   "source": [
    "#This function returns the reverse complement of a string using a dictionary\n",
    "def reverseComplement(s):\n",
    "    complement={'A':'T','C':'G','G':'C','T':'A'}\n",
    "    result=''\n",
    "    for letter in s:\n",
    "        result=complement[letter]+result\n",
    "    return result"
   ]
  }
 ],
 "metadata": {
  "kernelspec": {
   "display_name": "Python 3 (ipykernel)",
   "language": "python",
   "name": "python3"
  },
  "language_info": {
   "codemirror_mode": {
    "name": "ipython",
    "version": 3
   },
   "file_extension": ".py",
   "mimetype": "text/x-python",
   "name": "python",
   "nbconvert_exporter": "python",
   "pygments_lexer": "ipython3",
   "version": "3.8.8"
  }
 },
 "nbformat": 4,
 "nbformat_minor": 5
}
